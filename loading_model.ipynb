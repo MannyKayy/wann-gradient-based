{
 "cells": [
  {
   "cell_type": "code",
   "execution_count": 22,
   "metadata": {},
   "outputs": [],
   "source": [
    "import torch\n",
    "from model import Model\n",
    "from torch.autograd import Variable\n",
    "from train_mnist import evaluate, test_X, test_y\n",
    "from sklearn.metrics import accuracy_score, confusion_matrix, ConfusionMatrixDisplay\n",
    "import matplotlib.pyplot as plt\n",
    "import numpy as np"
   ]
  },
  {
   "cell_type": "code",
   "execution_count": 3,
   "metadata": {},
   "outputs": [
    {
     "name": "stdout",
     "output_type": "stream",
     "text": [
      "tensor([13., 10.,  6.])\n"
     ]
    },
    {
     "data": {
      "text/plain": [
       "Model(\n",
       "  (hidden_layers): ModuleList(\n",
       "    (0): ConcatLayer(\n",
       "      (linear): TertiaryLinear(in_features=257, out_features=13, bias=False)\n",
       "      (activation): ActModule()\n",
       "    )\n",
       "    (1): ConcatLayer(\n",
       "      (linear): TertiaryLinear(in_features=270, out_features=10, bias=False)\n",
       "      (activation): ActModule()\n",
       "    )\n",
       "    (2): ConcatLayer(\n",
       "      (linear): TertiaryLinear(in_features=280, out_features=6, bias=False)\n",
       "      (activation): ActModule()\n",
       "    )\n",
       "  )\n",
       "  (output_layer): ConcatLayer(\n",
       "    (linear): TertiaryLinear(in_features=286, out_features=10, bias=False)\n",
       "    (activation): ActModule()\n",
       "  )\n",
       "  (softmax): Softmax(dim=-1)\n",
       ")"
      ]
     },
     "execution_count": 3,
     "metadata": {},
     "output_type": "execute_result"
    }
   ],
   "source": [
    "w = Variable(torch.linspace(.5, 1.5, 10))\n",
    "d = torch.load('tmp_model_16.pt')\n",
    "model = Model.from_dict(w, 16*16+1, 10, d)\n",
    "print(model.layer_sizes())\n",
    "model"
   ]
  },
  {
   "cell_type": "code",
   "execution_count": 4,
   "metadata": {},
   "outputs": [
    {
     "name": "stdout",
     "output_type": "stream",
     "text": [
      "tensor([7., 3.])\n"
     ]
    },
    {
     "data": {
      "text/plain": [
       "Model(\n",
       "  (hidden_layers): ModuleList(\n",
       "    (0): ConcatLayer(\n",
       "      (linear): TertiaryLinear(in_features=257, out_features=7, bias=False)\n",
       "      (activation): ActModule()\n",
       "    )\n",
       "    (1): ConcatLayer(\n",
       "      (linear): TertiaryLinear(in_features=264, out_features=3, bias=False)\n",
       "      (activation): ActModule()\n",
       "    )\n",
       "  )\n",
       "  (output_layer): ConcatLayer(\n",
       "    (linear): TertiaryLinear(in_features=267, out_features=10, bias=False)\n",
       "    (activation): ActModule()\n",
       "  )\n",
       "  (softmax): Softmax(dim=-1)\n",
       ")"
      ]
     },
     "execution_count": 4,
     "metadata": {},
     "output_type": "execute_result"
    }
   ],
   "source": [
    "model.cleanup()\n",
    "print(model.layer_sizes())\n",
    "model"
   ]
  },
  {
   "cell_type": "code",
   "execution_count": 26,
   "metadata": {},
   "outputs": [
    {
     "name": "stdout",
     "output_type": "stream",
     "text": [
      "0.75922\n"
     ]
    },
    {
     "data": {
      "text/plain": [
       "<sklearn.metrics._plot.confusion_matrix.ConfusionMatrixDisplay at 0x7f0d9f950c70>"
      ]
     },
     "execution_count": 26,
     "metadata": {},
     "output_type": "execute_result"
    },
    {
     "data": {
      "image/png": "[encoded data removed]",
      "text/plain": [
       "<Figure size 432x288 with 2 Axes>"
      ]
     },
     "metadata": {
      "needs_background": "light"
     },
     "output_type": "display_data"
    }
   ],
   "source": [
    "x = test_X.unsqueeze(dim=0).expand((model.shared_weight.size()[0], -1, -1))\n",
    "\n",
    "predict_out = model(x).view(-1, model.out_features)\n",
    "\n",
    "_, predict_y = torch.max(predict_out, 1)\n",
    "\n",
    "acc = accuracy_score(test_y.repeat(model.shared_weight.size()).data, predict_y.data)\n",
    "\n",
    "print (acc)\n",
    "\n",
    "cm = confusion_matrix(test_y.repeat(model.shared_weight.size()), predict_y, normalize='all')\n",
    "disp = ConfusionMatrixDisplay(cm, np.arange(10))\n",
    "disp.plot(include_values=False)"
   ]
  },
  {
   "cell_type": "code",
   "execution_count": null,
   "metadata": {},
   "outputs": [],
   "source": []
  }
 ],
 "metadata": {
  "kernelspec": {
   "display_name": "Python 3",
   "language": "python",
   "name": "python3"
  },
  "language_info": {
   "codemirror_mode": {
    "name": "ipython",
    "version": 3
   },
   "file_extension": ".py",
   "mimetype": "text/x-python",
   "name": "python",
   "nbconvert_exporter": "python",
   "pygments_lexer": "ipython3",
   "version": "3.8.0"
  }
 },
 "nbformat": 4,
 "nbformat_minor": 4
}
