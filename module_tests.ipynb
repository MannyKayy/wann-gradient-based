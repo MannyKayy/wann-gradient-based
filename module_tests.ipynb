{
 "cells": [
  {
   "cell_type": "code",
   "execution_count": 1,
   "metadata": {},
   "outputs": [],
   "source": [
    "import torch\n",
    "from torch.autograd import Variable\n",
    "from model import Model, ConcatLayer"
   ]
  },
  {
   "cell_type": "code",
   "execution_count": 2,
   "metadata": {},
   "outputs": [],
   "source": [
    "w = Variable(torch.Tensor([.8,.9,1.0,1.1,1.2]))\n",
    "m = Model(w, 2, 2)\n",
    "m.init_weight()"
   ]
  },
  {
   "cell_type": "code",
   "execution_count": 3,
   "metadata": {},
   "outputs": [
    {
     "name": "stdout",
     "output_type": "stream",
     "text": [
      "True\n"
     ]
    },
    {
     "data": {
      "text/plain": [
       "OrderedDict([('hidden_layers.0.linear.weight',\n",
       "              tensor([[ 1.0000, -0.0492],\n",
       "                      [ 0.0724, -0.0121],\n",
       "                      [ 0.0261,  0.0528],\n",
       "                      [-0.0036,  0.0792],\n",
       "                      [-0.0558, -0.0495],\n",
       "                      [ 0.0450,  0.0109],\n",
       "                      [ 0.0058,  0.0460]])),\n",
       "             ('hidden_layers.0.activation.weight',\n",
       "              tensor([[0.2591, 0.3188, 0.6246, 0.6451, 0.5813, 0.6187, 0.4974],\n",
       "                      [0.8557, 0.6124, 0.0675, 0.1173, 0.1871, 0.4729, 0.8756],\n",
       "                      [0.3562, 0.6442, 0.6288, 0.1405, 0.5791, 0.0233, 0.9349],\n",
       "                      [0.2715, 0.3292, 0.4581, 0.7418, 0.5402, 0.6269, 0.0630]])),\n",
       "             ('hidden_layers.1.linear.weight',\n",
       "              tensor([[-0.0943,  0.0730,  0.0598, -0.0965, -0.0205,  0.0726, -0.0407,  0.0736,\n",
       "                        0.0481],\n",
       "                      [-0.0504,  0.0051,  0.0732,  0.0489,  0.0485,  0.0321,  0.0543,  0.0376,\n",
       "                        0.0515],\n",
       "                      [ 0.0849, -0.0972, -0.0444,  0.0561,  0.0394,  0.0776, -0.0029, -0.0836,\n",
       "                        0.0637],\n",
       "                      [ 0.0056, -0.0016,  0.0758,  0.0607,  0.0073,  0.0523, -0.0915, -0.0859,\n",
       "                       -0.0311],\n",
       "                      [ 0.0802, -0.0747,  0.0480, -0.0360, -0.0365,  0.0255, -0.0809,  0.0358,\n",
       "                       -0.0732],\n",
       "                      [ 0.0452,  0.0388, -0.0583,  0.0138, -0.0258, -0.0192,  0.0884,  0.0580,\n",
       "                       -0.0388]])),\n",
       "             ('hidden_layers.1.activation.weight',\n",
       "              tensor([[0.5958, 0.4963, 0.0322, 0.4409, 0.5901, 0.2639],\n",
       "                      [0.2899, 0.5863, 0.4846, 0.5341, 0.1287, 0.6112],\n",
       "                      [0.5989, 0.1613, 0.5894, 0.4982, 0.7804, 0.4182],\n",
       "                      [0.4497, 0.6196, 0.6456, 0.5216, 0.1615, 0.6180]])),\n",
       "             ('output_layer.linear.weight',\n",
       "              tensor([[ 0.0956, -0.0979,  0.0616, -0.0353, -0.0190, -0.0813,  0.0303, -0.0094,\n",
       "                       -0.0382, -0.0008,  0.0325, -0.0759, -0.0179,  0.0098,  0.0423],\n",
       "                      [ 0.0510,  0.0257,  0.0898,  0.0502,  0.0624, -0.0088, -0.0593, -0.0356,\n",
       "                        0.0114, -0.0598, -0.0789, -0.0116, -0.0240, -0.0200,  0.0800]])),\n",
       "             ('output_layer.activation.weight',\n",
       "              tensor([[0.7149, 0.3788],\n",
       "                      [0.4574, 0.2980],\n",
       "                      [0.2541, 0.5699],\n",
       "                      [0.4639, 0.6655]]))])"
      ]
     },
     "execution_count": 3,
     "metadata": {},
     "output_type": "execute_result"
    }
   ],
   "source": [
    "m.hidden_layers[0].linear.weight[0, 0] = 1.\n",
    "print(m.grow())\n",
    "d = m.to_dict()\n",
    "m.state_dict()"
   ]
  },
  {
   "cell_type": "code",
   "execution_count": 4,
   "metadata": {},
   "outputs": [
    {
     "data": {
      "text/plain": [
       "OrderedDict([('hidden_layers.0.linear.weight',\n",
       "              tensor([[ 1.0000, -0.0492],\n",
       "                      [ 0.0724, -0.0121],\n",
       "                      [ 0.0261,  0.0528],\n",
       "                      [-0.0036,  0.0792],\n",
       "                      [-0.0558, -0.0495],\n",
       "                      [ 0.0450,  0.0109],\n",
       "                      [ 0.0058,  0.0460]])),\n",
       "             ('hidden_layers.0.activation.weight',\n",
       "              tensor([[0.2591, 0.3188, 0.6246, 0.6451, 0.5813, 0.6187, 0.4974],\n",
       "                      [0.8557, 0.6124, 0.0675, 0.1173, 0.1871, 0.4729, 0.8756],\n",
       "                      [0.3562, 0.6442, 0.6288, 0.1405, 0.5791, 0.0233, 0.9349],\n",
       "                      [0.2715, 0.3292, 0.4581, 0.7418, 0.5402, 0.6269, 0.0630]])),\n",
       "             ('hidden_layers.1.linear.weight',\n",
       "              tensor([[-0.0943,  0.0730,  0.0598, -0.0965, -0.0205,  0.0726, -0.0407,  0.0736,\n",
       "                        0.0481],\n",
       "                      [-0.0504,  0.0051,  0.0732,  0.0489,  0.0485,  0.0321,  0.0543,  0.0376,\n",
       "                        0.0515],\n",
       "                      [ 0.0849, -0.0972, -0.0444,  0.0561,  0.0394,  0.0776, -0.0029, -0.0836,\n",
       "                        0.0637],\n",
       "                      [ 0.0056, -0.0016,  0.0758,  0.0607,  0.0073,  0.0523, -0.0915, -0.0859,\n",
       "                       -0.0311],\n",
       "                      [ 0.0802, -0.0747,  0.0480, -0.0360, -0.0365,  0.0255, -0.0809,  0.0358,\n",
       "                       -0.0732],\n",
       "                      [ 0.0452,  0.0388, -0.0583,  0.0138, -0.0258, -0.0192,  0.0884,  0.0580,\n",
       "                       -0.0388]])),\n",
       "             ('hidden_layers.1.activation.weight',\n",
       "              tensor([[0.5958, 0.4963, 0.0322, 0.4409, 0.5901, 0.2639],\n",
       "                      [0.2899, 0.5863, 0.4846, 0.5341, 0.1287, 0.6112],\n",
       "                      [0.5989, 0.1613, 0.5894, 0.4982, 0.7804, 0.4182],\n",
       "                      [0.4497, 0.6196, 0.6456, 0.5216, 0.1615, 0.6180]])),\n",
       "             ('output_layer.linear.weight',\n",
       "              tensor([[ 0.0956, -0.0979,  0.0616, -0.0353, -0.0190, -0.0813,  0.0303, -0.0094,\n",
       "                       -0.0382, -0.0008,  0.0325, -0.0759, -0.0179,  0.0098,  0.0423],\n",
       "                      [ 0.0510,  0.0257,  0.0898,  0.0502,  0.0624, -0.0088, -0.0593, -0.0356,\n",
       "                        0.0114, -0.0598, -0.0789, -0.0116, -0.0240, -0.0200,  0.0800]])),\n",
       "             ('output_layer.activation.weight',\n",
       "              tensor([[0.7149, 0.3788],\n",
       "                      [0.4574, 0.2980],\n",
       "                      [0.2541, 0.5699],\n",
       "                      [0.4639, 0.6655]]))])"
      ]
     },
     "execution_count": 4,
     "metadata": {},
     "output_type": "execute_result"
    }
   ],
   "source": [
    "w = Variable(torch.Tensor([.8,.9,1.0,1.1,1.2]))\n",
    "m_loaded = Model.from_dict(w, 2, 2, d)\n",
    "m_loaded.state_dict()"
   ]
  },
  {
   "cell_type": "code",
   "execution_count": 5,
   "metadata": {},
   "outputs": [
    {
     "data": {
      "text/plain": [
       "tensor([ True, False,  True,  True])"
      ]
     },
     "execution_count": 5,
     "metadata": {},
     "output_type": "execute_result"
    }
   ],
   "source": [
    "t = torch.ones(4, dtype=bool)\n",
    "#i = torch.LongTensor([1,2])\n",
    "i = 1\n",
    "t[i] = False\n",
    "t"
   ]
  },
  {
   "cell_type": "code",
   "execution_count": 13,
   "metadata": {},
   "outputs": [
    {
     "name": "stdout",
     "output_type": "stream",
     "text": [
      "28\n"
     ]
    },
    {
     "data": {
      "text/plain": [
       "[Parameter containing:\n",
       " tensor([[ 0.0518, -0.0449, -0.0404],\n",
       "         [ 0.0086,  0.0208, -0.0663],\n",
       "         [ 0.0549,  0.0157,  0.0115],\n",
       "         [ 0.0715,  0.0939,  0.0920]], requires_grad=True),\n",
       " Parameter containing:\n",
       " tensor([[0.2013, 0.7283, 0.6067, 0.2790],\n",
       "         [0.6726, 0.2672, 0.5264, 0.6256],\n",
       "         [0.6079, 0.6144, 0.0492, 0.7283],\n",
       "         [0.3708, 0.1443, 0.5937, 0.0175]], requires_grad=True)]"
      ]
     },
     "execution_count": 13,
     "metadata": {},
     "output_type": "execute_result"
    }
   ],
   "source": [
    "layer = ConcatLayer(3,4,w)\n",
    "layer.init_weight()\n",
    "print(sum([p.numel() for p in layer.parameters()]))\n",
    "list(layer.parameters())"
   ]
  },
  {
   "cell_type": "code",
   "execution_count": 14,
   "metadata": {},
   "outputs": [],
   "source": [
    "layer.append_nodes_out(2)\n",
    "layer.append_nodes_in(3, 1)"
   ]
  },
  {
   "cell_type": "code",
   "execution_count": 15,
   "metadata": {},
   "outputs": [
    {
     "data": {
      "text/plain": [
       "ConcatLayer(\n",
       "  (linear): TertiaryLinear(in_features=4, out_features=6, bias=False)\n",
       "  (activation): ActModule()\n",
       ")"
      ]
     },
     "execution_count": 15,
     "metadata": {},
     "output_type": "execute_result"
    }
   ],
   "source": [
    "layer"
   ]
  },
  {
   "cell_type": "code",
   "execution_count": 16,
   "metadata": {},
   "outputs": [
    {
     "name": "stdout",
     "output_type": "stream",
     "text": [
      "48\n"
     ]
    },
    {
     "data": {
      "text/plain": [
       "[Parameter containing:\n",
       " tensor([[ 0.0518, -0.0449, -0.0404, -0.0079],\n",
       "         [ 0.0086,  0.0208, -0.0663, -0.0514],\n",
       "         [ 0.0549,  0.0157,  0.0115,  0.0530],\n",
       "         [ 0.0715,  0.0939,  0.0920, -0.0291],\n",
       "         [-0.0728, -0.0784, -0.0497,  0.0003],\n",
       "         [-0.0592,  0.0458, -0.0463,  0.0681]], requires_grad=True),\n",
       " Parameter containing:\n",
       " tensor([[0.2013, 0.7283, 0.6067, 0.2790, 0.6727, 0.6997],\n",
       "         [0.6726, 0.2672, 0.5264, 0.6256, 0.1988, 0.7959],\n",
       "         [0.6079, 0.6144, 0.0492, 0.7283, 0.5251, 0.9297],\n",
       "         [0.3708, 0.1443, 0.5937, 0.0175, 0.0192, 0.1354]], requires_grad=True)]"
      ]
     },
     "execution_count": 16,
     "metadata": {},
     "output_type": "execute_result"
    }
   ],
   "source": [
    "print(sum([p.numel() for p in layer.parameters()]))\n",
    "list(layer.parameters())"
   ]
  },
  {
   "cell_type": "code",
   "execution_count": 20,
   "metadata": {},
   "outputs": [
    {
     "data": {
      "text/plain": [
       "tensor([2.])"
      ]
     },
     "execution_count": 20,
     "metadata": {},
     "output_type": "execute_result"
    }
   ],
   "source": [
    "torch.Tensor([torch.Tensor([2])])"
   ]
  },
  {
   "cell_type": "code",
   "execution_count": 22,
   "metadata": {},
   "outputs": [
    {
     "name": "stdout",
     "output_type": "stream",
     "text": [
      "2 c\n",
      "1 b\n",
      "0 a\n"
     ]
    }
   ],
   "source": [
    "for i, s in reversed(list(enumerate(['a', 'b', 'c']))):\n",
    "    print (i, s)"
   ]
  },
  {
   "cell_type": "code",
   "execution_count": null,
   "metadata": {},
   "outputs": [],
   "source": []
  }
 ],
 "metadata": {
  "kernelspec": {
   "display_name": "Python 3",
   "language": "python",
   "name": "python3"
  },
  "language_info": {
   "codemirror_mode": {
    "name": "ipython",
    "version": 3
   },
   "file_extension": ".py",
   "mimetype": "text/x-python",
   "name": "python",
   "nbconvert_exporter": "python",
   "pygments_lexer": "ipython3",
   "version": "3.8.0"
  }
 },
 "nbformat": 4,
 "nbformat_minor": 4
}
